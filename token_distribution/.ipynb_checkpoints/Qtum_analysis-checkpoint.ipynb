{
 "cells": [
  {
   "cell_type": "markdown",
   "metadata": {},
   "source": [
    "# Analysis of Tokendistribution for QTUM"
   ]
  },
  {
   "cell_type": "markdown",
   "metadata": {},
   "source": [
    "The data for the analysis is obtained from [ethplorer.io](https://ethplorer.io).\n",
    "\n",
    "At first the Pareto-distribution is checked. Then the Lorenz-curve is shown and finally the Gini-coefficient is calculated."
   ]
  },
  {
   "cell_type": "code",
   "execution_count": 10,
   "metadata": {
    "collapsed": false
   },
   "outputs": [
    {
     "data": {
      "text/html": [
       "<table>\n",
       "<thead><tr><th scope=col>X</th><th scope=col>address</th><th scope=col>tokens</th></tr></thead>\n",
       "<tbody>\n",
       "\t<tr><td> 0          </td><td>7.792772e+47</td><td>2.802375e+25</td></tr>\n",
       "\t<tr><td> 1          </td><td>9.743344e+46</td><td>1.499387e+25</td></tr>\n",
       "\t<tr><td> 2          </td><td>7.792772e+47</td><td>1.188700e+25</td></tr>\n",
       "\t<tr><td> 3          </td><td>9.743344e+46</td><td>1.026575e+25</td></tr>\n",
       "\t<tr><td> 4          </td><td>2.923003e+47</td><td>8.266000e+24</td></tr>\n",
       "\t<tr><td> 5          </td><td>7.794675e+47</td><td>3.255638e+24</td></tr>\n",
       "\t<tr><td> 6          </td><td>4.862335e+47</td><td>2.398380e+24</td></tr>\n",
       "\t<tr><td> 7          </td><td>6.820341e+47</td><td>2.208000e+24</td></tr>\n",
       "\t<tr><td> 8          </td><td>1.948669e+47</td><td>2.107192e+24</td></tr>\n",
       "\t<tr><td> 9          </td><td>3.897338e+47</td><td>1.855689e+24</td></tr>\n",
       "\t<tr><td>10          </td><td>1.385625e+48</td><td>1.789950e+24</td></tr>\n",
       "\t<tr><td>11          </td><td>3.385989e+46</td><td>1.277495e+24</td></tr>\n",
       "\t<tr><td>12          </td><td>9.743344e+46</td><td>1.254425e+24</td></tr>\n",
       "\t<tr><td>13          </td><td>1.133292e+47</td><td>1.025000e+24</td></tr>\n",
       "\t<tr><td>14          </td><td>7.792772e+47</td><td>9.358909e+23</td></tr>\n",
       "\t<tr><td>15          </td><td>9.743344e+46</td><td>8.542901e+23</td></tr>\n",
       "\t<tr><td>16          </td><td>5.096795e+47</td><td>8.490000e+23</td></tr>\n",
       "\t<tr><td>17          </td><td>8.769010e+47</td><td>7.630430e+23</td></tr>\n",
       "\t<tr><td>18          </td><td>6.820341e+47</td><td>7.000000e+23</td></tr>\n",
       "\t<tr><td>19          </td><td>9.743344e+46</td><td>4.663797e+23</td></tr>\n",
       "\t<tr><td>20          </td><td>6.820341e+47</td><td>3.949983e+23</td></tr>\n",
       "\t<tr><td>21          </td><td>1.425061e+48</td><td>2.519980e+23</td></tr>\n",
       "\t<tr><td>22          </td><td>6.046717e+47</td><td>2.426388e+23</td></tr>\n",
       "\t<tr><td>23          </td><td>6.518726e+47</td><td>2.037737e+23</td></tr>\n",
       "\t<tr><td>24          </td><td>1.397033e+48</td><td>2.000050e+23</td></tr>\n",
       "\t<tr><td>25          </td><td>4.384264e+47</td><td>2.000010e+23</td></tr>\n",
       "\t<tr><td>26          </td><td>1.296457e+48</td><td>1.932054e+23</td></tr>\n",
       "\t<tr><td>27          </td><td>9.743344e+46</td><td>1.846468e+23</td></tr>\n",
       "\t<tr><td>28          </td><td>1.119780e+48</td><td>1.830153e+23</td></tr>\n",
       "\t<tr><td>29          </td><td>6.367242e+46</td><td>1.800000e+23</td></tr>\n",
       "\t<tr><td>⋮</td><td>⋮</td><td>⋮</td></tr>\n",
       "\t<tr><td>4670        </td><td>5.769870e+47</td><td>1.478520e+19</td></tr>\n",
       "\t<tr><td>4671        </td><td>3.672995e+47</td><td>1.478103e+19</td></tr>\n",
       "\t<tr><td>4672        </td><td>4.998796e+47</td><td>1.477020e+19</td></tr>\n",
       "\t<tr><td>4673        </td><td>7.858597e+47</td><td>1.475770e+19</td></tr>\n",
       "\t<tr><td>4674        </td><td>7.826830e+47</td><td>1.475661e+19</td></tr>\n",
       "\t<tr><td>4675        </td><td>8.181310e+47</td><td>1.475601e+19</td></tr>\n",
       "\t<tr><td>4676        </td><td>1.029078e+48</td><td>1.474017e+19</td></tr>\n",
       "\t<tr><td>4677        </td><td>8.375617e+47</td><td>1.473000e+19</td></tr>\n",
       "\t<tr><td>4678        </td><td>1.567498e+47</td><td>1.472217e+19</td></tr>\n",
       "\t<tr><td>4679        </td><td>6.107170e+47</td><td>1.470953e+19</td></tr>\n",
       "\t<tr><td>4680        </td><td>4.959654e+47</td><td>1.470000e+19</td></tr>\n",
       "\t<tr><td>4681        </td><td>6.239734e+47</td><td>1.469099e+19</td></tr>\n",
       "\t<tr><td>4682        </td><td>1.306598e+48</td><td>1.468373e+19</td></tr>\n",
       "\t<tr><td>4683        </td><td>1.226127e+48</td><td>1.463820e+19</td></tr>\n",
       "\t<tr><td>4684        </td><td>1.376680e+48</td><td>1.462636e+19</td></tr>\n",
       "\t<tr><td>4685        </td><td>2.763725e+47</td><td>1.462510e+19</td></tr>\n",
       "\t<tr><td>4686        </td><td>1.423696e+48</td><td>1.461428e+19</td></tr>\n",
       "\t<tr><td>4687        </td><td>6.706209e+47</td><td>1.460724e+19</td></tr>\n",
       "\t<tr><td>4688        </td><td>8.472229e+47</td><td>1.460440e+19</td></tr>\n",
       "\t<tr><td>4689        </td><td>7.486835e+46</td><td>1.459854e+19</td></tr>\n",
       "\t<tr><td>4690        </td><td>1.384094e+48</td><td>1.457615e+19</td></tr>\n",
       "\t<tr><td>4691        </td><td>1.935827e+47</td><td>1.457540e+19</td></tr>\n",
       "\t<tr><td>4692        </td><td>1.275461e+48</td><td>1.456942e+19</td></tr>\n",
       "\t<tr><td>4693        </td><td>9.718626e+47</td><td>1.456931e+19</td></tr>\n",
       "\t<tr><td>4694        </td><td>2.657188e+47</td><td>1.456608e+19</td></tr>\n",
       "\t<tr><td>4695        </td><td>1.299437e+48</td><td>1.453820e+19</td></tr>\n",
       "\t<tr><td>4696        </td><td>1.378872e+48</td><td>1.452826e+19</td></tr>\n",
       "\t<tr><td>4697        </td><td>3.472726e+47</td><td>1.450440e+19</td></tr>\n",
       "\t<tr><td>4698        </td><td>9.374570e+47</td><td>1.450000e+19</td></tr>\n",
       "\t<tr><td>4699        </td><td>8.485760e+46</td><td>1.450000e+19</td></tr>\n",
       "</tbody>\n",
       "</table>\n"
      ],
      "text/latex": [
       "\\begin{tabular}{r|lll}\n",
       " X & address & tokens\\\\\n",
       "\\hline\n",
       "\t  0           & 7.792772e+47 & 2.802375e+25\\\\\n",
       "\t  1           & 9.743344e+46 & 1.499387e+25\\\\\n",
       "\t  2           & 7.792772e+47 & 1.188700e+25\\\\\n",
       "\t  3           & 9.743344e+46 & 1.026575e+25\\\\\n",
       "\t  4           & 2.923003e+47 & 8.266000e+24\\\\\n",
       "\t  5           & 7.794675e+47 & 3.255638e+24\\\\\n",
       "\t  6           & 4.862335e+47 & 2.398380e+24\\\\\n",
       "\t  7           & 6.820341e+47 & 2.208000e+24\\\\\n",
       "\t  8           & 1.948669e+47 & 2.107192e+24\\\\\n",
       "\t  9           & 3.897338e+47 & 1.855689e+24\\\\\n",
       "\t 10           & 1.385625e+48 & 1.789950e+24\\\\\n",
       "\t 11           & 3.385989e+46 & 1.277495e+24\\\\\n",
       "\t 12           & 9.743344e+46 & 1.254425e+24\\\\\n",
       "\t 13           & 1.133292e+47 & 1.025000e+24\\\\\n",
       "\t 14           & 7.792772e+47 & 9.358909e+23\\\\\n",
       "\t 15           & 9.743344e+46 & 8.542901e+23\\\\\n",
       "\t 16           & 5.096795e+47 & 8.490000e+23\\\\\n",
       "\t 17           & 8.769010e+47 & 7.630430e+23\\\\\n",
       "\t 18           & 6.820341e+47 & 7.000000e+23\\\\\n",
       "\t 19           & 9.743344e+46 & 4.663797e+23\\\\\n",
       "\t 20           & 6.820341e+47 & 3.949983e+23\\\\\n",
       "\t 21           & 1.425061e+48 & 2.519980e+23\\\\\n",
       "\t 22           & 6.046717e+47 & 2.426388e+23\\\\\n",
       "\t 23           & 6.518726e+47 & 2.037737e+23\\\\\n",
       "\t 24           & 1.397033e+48 & 2.000050e+23\\\\\n",
       "\t 25           & 4.384264e+47 & 2.000010e+23\\\\\n",
       "\t 26           & 1.296457e+48 & 1.932054e+23\\\\\n",
       "\t 27           & 9.743344e+46 & 1.846468e+23\\\\\n",
       "\t 28           & 1.119780e+48 & 1.830153e+23\\\\\n",
       "\t 29           & 6.367242e+46 & 1.800000e+23\\\\\n",
       "\t ⋮ & ⋮ & ⋮\\\\\n",
       "\t 4670         & 5.769870e+47 & 1.478520e+19\\\\\n",
       "\t 4671         & 3.672995e+47 & 1.478103e+19\\\\\n",
       "\t 4672         & 4.998796e+47 & 1.477020e+19\\\\\n",
       "\t 4673         & 7.858597e+47 & 1.475770e+19\\\\\n",
       "\t 4674         & 7.826830e+47 & 1.475661e+19\\\\\n",
       "\t 4675         & 8.181310e+47 & 1.475601e+19\\\\\n",
       "\t 4676         & 1.029078e+48 & 1.474017e+19\\\\\n",
       "\t 4677         & 8.375617e+47 & 1.473000e+19\\\\\n",
       "\t 4678         & 1.567498e+47 & 1.472217e+19\\\\\n",
       "\t 4679         & 6.107170e+47 & 1.470953e+19\\\\\n",
       "\t 4680         & 4.959654e+47 & 1.470000e+19\\\\\n",
       "\t 4681         & 6.239734e+47 & 1.469099e+19\\\\\n",
       "\t 4682         & 1.306598e+48 & 1.468373e+19\\\\\n",
       "\t 4683         & 1.226127e+48 & 1.463820e+19\\\\\n",
       "\t 4684         & 1.376680e+48 & 1.462636e+19\\\\\n",
       "\t 4685         & 2.763725e+47 & 1.462510e+19\\\\\n",
       "\t 4686         & 1.423696e+48 & 1.461428e+19\\\\\n",
       "\t 4687         & 6.706209e+47 & 1.460724e+19\\\\\n",
       "\t 4688         & 8.472229e+47 & 1.460440e+19\\\\\n",
       "\t 4689         & 7.486835e+46 & 1.459854e+19\\\\\n",
       "\t 4690         & 1.384094e+48 & 1.457615e+19\\\\\n",
       "\t 4691         & 1.935827e+47 & 1.457540e+19\\\\\n",
       "\t 4692         & 1.275461e+48 & 1.456942e+19\\\\\n",
       "\t 4693         & 9.718626e+47 & 1.456931e+19\\\\\n",
       "\t 4694         & 2.657188e+47 & 1.456608e+19\\\\\n",
       "\t 4695         & 1.299437e+48 & 1.453820e+19\\\\\n",
       "\t 4696         & 1.378872e+48 & 1.452826e+19\\\\\n",
       "\t 4697         & 3.472726e+47 & 1.450440e+19\\\\\n",
       "\t 4698         & 9.374570e+47 & 1.450000e+19\\\\\n",
       "\t 4699         & 8.485760e+46 & 1.450000e+19\\\\\n",
       "\\end{tabular}\n"
      ],
      "text/markdown": [
       "\n",
       "X | address | tokens | \n",
       "|---|---|---|---|---|---|---|---|---|---|---|---|---|---|---|---|---|---|---|---|---|---|---|---|---|---|---|---|---|---|---|---|---|---|---|---|---|---|---|---|---|---|---|---|---|---|---|---|---|---|---|---|---|---|---|---|---|---|---|---|---|\n",
       "|  0           | 7.792772e+47 | 2.802375e+25 | \n",
       "|  1           | 9.743344e+46 | 1.499387e+25 | \n",
       "|  2           | 7.792772e+47 | 1.188700e+25 | \n",
       "|  3           | 9.743344e+46 | 1.026575e+25 | \n",
       "|  4           | 2.923003e+47 | 8.266000e+24 | \n",
       "|  5           | 7.794675e+47 | 3.255638e+24 | \n",
       "|  6           | 4.862335e+47 | 2.398380e+24 | \n",
       "|  7           | 6.820341e+47 | 2.208000e+24 | \n",
       "|  8           | 1.948669e+47 | 2.107192e+24 | \n",
       "|  9           | 3.897338e+47 | 1.855689e+24 | \n",
       "| 10           | 1.385625e+48 | 1.789950e+24 | \n",
       "| 11           | 3.385989e+46 | 1.277495e+24 | \n",
       "| 12           | 9.743344e+46 | 1.254425e+24 | \n",
       "| 13           | 1.133292e+47 | 1.025000e+24 | \n",
       "| 14           | 7.792772e+47 | 9.358909e+23 | \n",
       "| 15           | 9.743344e+46 | 8.542901e+23 | \n",
       "| 16           | 5.096795e+47 | 8.490000e+23 | \n",
       "| 17           | 8.769010e+47 | 7.630430e+23 | \n",
       "| 18           | 6.820341e+47 | 7.000000e+23 | \n",
       "| 19           | 9.743344e+46 | 4.663797e+23 | \n",
       "| 20           | 6.820341e+47 | 3.949983e+23 | \n",
       "| 21           | 1.425061e+48 | 2.519980e+23 | \n",
       "| 22           | 6.046717e+47 | 2.426388e+23 | \n",
       "| 23           | 6.518726e+47 | 2.037737e+23 | \n",
       "| 24           | 1.397033e+48 | 2.000050e+23 | \n",
       "| 25           | 4.384264e+47 | 2.000010e+23 | \n",
       "| 26           | 1.296457e+48 | 1.932054e+23 | \n",
       "| 27           | 9.743344e+46 | 1.846468e+23 | \n",
       "| 28           | 1.119780e+48 | 1.830153e+23 | \n",
       "| 29           | 6.367242e+46 | 1.800000e+23 | \n",
       "| ⋮ | ⋮ | ⋮ | \n",
       "| 4670         | 5.769870e+47 | 1.478520e+19 | \n",
       "| 4671         | 3.672995e+47 | 1.478103e+19 | \n",
       "| 4672         | 4.998796e+47 | 1.477020e+19 | \n",
       "| 4673         | 7.858597e+47 | 1.475770e+19 | \n",
       "| 4674         | 7.826830e+47 | 1.475661e+19 | \n",
       "| 4675         | 8.181310e+47 | 1.475601e+19 | \n",
       "| 4676         | 1.029078e+48 | 1.474017e+19 | \n",
       "| 4677         | 8.375617e+47 | 1.473000e+19 | \n",
       "| 4678         | 1.567498e+47 | 1.472217e+19 | \n",
       "| 4679         | 6.107170e+47 | 1.470953e+19 | \n",
       "| 4680         | 4.959654e+47 | 1.470000e+19 | \n",
       "| 4681         | 6.239734e+47 | 1.469099e+19 | \n",
       "| 4682         | 1.306598e+48 | 1.468373e+19 | \n",
       "| 4683         | 1.226127e+48 | 1.463820e+19 | \n",
       "| 4684         | 1.376680e+48 | 1.462636e+19 | \n",
       "| 4685         | 2.763725e+47 | 1.462510e+19 | \n",
       "| 4686         | 1.423696e+48 | 1.461428e+19 | \n",
       "| 4687         | 6.706209e+47 | 1.460724e+19 | \n",
       "| 4688         | 8.472229e+47 | 1.460440e+19 | \n",
       "| 4689         | 7.486835e+46 | 1.459854e+19 | \n",
       "| 4690         | 1.384094e+48 | 1.457615e+19 | \n",
       "| 4691         | 1.935827e+47 | 1.457540e+19 | \n",
       "| 4692         | 1.275461e+48 | 1.456942e+19 | \n",
       "| 4693         | 9.718626e+47 | 1.456931e+19 | \n",
       "| 4694         | 2.657188e+47 | 1.456608e+19 | \n",
       "| 4695         | 1.299437e+48 | 1.453820e+19 | \n",
       "| 4696         | 1.378872e+48 | 1.452826e+19 | \n",
       "| 4697         | 3.472726e+47 | 1.450440e+19 | \n",
       "| 4698         | 9.374570e+47 | 1.450000e+19 | \n",
       "| 4699         | 8.485760e+46 | 1.450000e+19 | \n",
       "\n",
       "\n"
      ],
      "text/plain": [
       "     X    address      tokens      \n",
       "1     0   7.792772e+47 2.802375e+25\n",
       "2     1   9.743344e+46 1.499387e+25\n",
       "3     2   7.792772e+47 1.188700e+25\n",
       "4     3   9.743344e+46 1.026575e+25\n",
       "5     4   2.923003e+47 8.266000e+24\n",
       "6     5   7.794675e+47 3.255638e+24\n",
       "7     6   4.862335e+47 2.398380e+24\n",
       "8     7   6.820341e+47 2.208000e+24\n",
       "9     8   1.948669e+47 2.107192e+24\n",
       "10    9   3.897338e+47 1.855689e+24\n",
       "11   10   1.385625e+48 1.789950e+24\n",
       "12   11   3.385989e+46 1.277495e+24\n",
       "13   12   9.743344e+46 1.254425e+24\n",
       "14   13   1.133292e+47 1.025000e+24\n",
       "15   14   7.792772e+47 9.358909e+23\n",
       "16   15   9.743344e+46 8.542901e+23\n",
       "17   16   5.096795e+47 8.490000e+23\n",
       "18   17   8.769010e+47 7.630430e+23\n",
       "19   18   6.820341e+47 7.000000e+23\n",
       "20   19   9.743344e+46 4.663797e+23\n",
       "21   20   6.820341e+47 3.949983e+23\n",
       "22   21   1.425061e+48 2.519980e+23\n",
       "23   22   6.046717e+47 2.426388e+23\n",
       "24   23   6.518726e+47 2.037737e+23\n",
       "25   24   1.397033e+48 2.000050e+23\n",
       "26   25   4.384264e+47 2.000010e+23\n",
       "27   26   1.296457e+48 1.932054e+23\n",
       "28   27   9.743344e+46 1.846468e+23\n",
       "29   28   1.119780e+48 1.830153e+23\n",
       "30   29   6.367242e+46 1.800000e+23\n",
       "⋮    ⋮    ⋮            ⋮           \n",
       "4671 4670 5.769870e+47 1.478520e+19\n",
       "4672 4671 3.672995e+47 1.478103e+19\n",
       "4673 4672 4.998796e+47 1.477020e+19\n",
       "4674 4673 7.858597e+47 1.475770e+19\n",
       "4675 4674 7.826830e+47 1.475661e+19\n",
       "4676 4675 8.181310e+47 1.475601e+19\n",
       "4677 4676 1.029078e+48 1.474017e+19\n",
       "4678 4677 8.375617e+47 1.473000e+19\n",
       "4679 4678 1.567498e+47 1.472217e+19\n",
       "4680 4679 6.107170e+47 1.470953e+19\n",
       "4681 4680 4.959654e+47 1.470000e+19\n",
       "4682 4681 6.239734e+47 1.469099e+19\n",
       "4683 4682 1.306598e+48 1.468373e+19\n",
       "4684 4683 1.226127e+48 1.463820e+19\n",
       "4685 4684 1.376680e+48 1.462636e+19\n",
       "4686 4685 2.763725e+47 1.462510e+19\n",
       "4687 4686 1.423696e+48 1.461428e+19\n",
       "4688 4687 6.706209e+47 1.460724e+19\n",
       "4689 4688 8.472229e+47 1.460440e+19\n",
       "4690 4689 7.486835e+46 1.459854e+19\n",
       "4691 4690 1.384094e+48 1.457615e+19\n",
       "4692 4691 1.935827e+47 1.457540e+19\n",
       "4693 4692 1.275461e+48 1.456942e+19\n",
       "4694 4693 9.718626e+47 1.456931e+19\n",
       "4695 4694 2.657188e+47 1.456608e+19\n",
       "4696 4695 1.299437e+48 1.453820e+19\n",
       "4697 4696 1.378872e+48 1.452826e+19\n",
       "4698 4697 3.472726e+47 1.450440e+19\n",
       "4699 4698 9.374570e+47 1.450000e+19\n",
       "4700 4699 8.485760e+46 1.450000e+19"
      ]
     },
     "metadata": {},
     "output_type": "display_data"
    }
   ],
   "source": [
    "library(ggplot2)\n",
    "library(ineq)\n",
    "\n",
    "data <- read.csv(\"../data/qtum.csv\")\n",
    "data"
   ]
  },
  {
   "cell_type": "code",
   "execution_count": 19,
   "metadata": {
    "collapsed": false
   },
   "outputs": [
    {
     "data": {
      "image/png": "[encoded data removed]",
      "text/plain": [
       "plot without title"
      ]
     },
     "metadata": {},
     "output_type": "display_data"
    }
   ],
   "source": [
    "plot <- ggplot(data, aes(x = X, y = tokens)) + geom_line() + scale_y_log10() +\n",
    "theme_bw() + xlab(\"Tokenholders\") + ylab(\"#tokens\") + ggtitle(\"Token distribution for QTUM\")\n",
    "\n",
    "show(plot)"
   ]
  },
  {
   "cell_type": "code",
   "execution_count": 4,
   "metadata": {
    "collapsed": false
   },
   "outputs": [
    {
     "data": {
      "image/png": "[encoded data removed]",
      "text/plain": [
       "Plot with title “Lorenz curve”"
      ]
     },
     "metadata": {},
     "output_type": "display_data"
    }
   ],
   "source": [
    "Lc.p <- Lc(as.vector(data[[\"tokens\"]]))\n",
    "plot(Lc.p)"
   ]
  },
  {
   "cell_type": "code",
   "execution_count": 6,
   "metadata": {
    "collapsed": false
   },
   "outputs": [
    {
     "name": "stdout",
     "output_type": "stream",
     "text": [
      "[1] 0.9953708\n"
     ]
    }
   ],
   "source": [
    "gini_coeff <- ineq(as.vector(data[[\"tokens\"]]), type = \"Gini\")\n",
    "print(gini_coeff)"
   ]
  },
  {
   "cell_type": "code",
   "execution_count": null,
   "metadata": {
    "collapsed": true
   },
   "outputs": [],
   "source": []
  }
 ],
 "metadata": {
  "kernelspec": {
   "display_name": "R",
   "language": "R",
   "name": "ir"
  },
  "language_info": {
   "codemirror_mode": "r",
   "file_extension": ".r",
   "mimetype": "text/x-r-source",
   "name": "R",
   "pygments_lexer": "r",
   "version": "3.4.0"
  }
 },
 "nbformat": 4,
 "nbformat_minor": 2
}
